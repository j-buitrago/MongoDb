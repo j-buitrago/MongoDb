{
 "cells": [
  {
   "cell_type": "code",
   "execution_count": 20,
   "metadata": {},
   "outputs": [],
   "source": [
    "from pymongo import MongoClient\n",
    "import pprint\n",
    "import warnings\n",
    "import datetime\n",
    "\n",
    "warnings.filterwarnings('ignore')"
   ]
  },
  {
   "cell_type": "code",
   "execution_count": 2,
   "metadata": {},
   "outputs": [],
   "source": [
    "client = MongoClient()\n",
    "client = MongoClient('localhost', 27017)\n",
    "db = client.bdlp_db_def\n",
    "collection = db.bdlp_c_def"
   ]
  },
  {
   "cell_type": "code",
   "execution_count": 3,
   "metadata": {},
   "outputs": [
    {
     "name": "stdout",
     "output_type": "stream",
     "text": [
      "------Listado de todas las publicaciones de Sanjeev Saxena : ------\n",
      "0 : Parallel Integer Sorting and Simulation Amongst CRCW Models.\n",
      "1 : Optimal Sublogarithmic Time Parallel Algorithms on Rooted Forests.\n",
      "2 : Parallel Algorithms for Finding the Most Vital Edge in Weighted Graphs.\n",
      "3 : An efficient parallel algorithm for building the separating tree.\n",
      "4 : Fast parallel edge colouring of graphs.\n",
      "5 : Faster algorithm to find anti-risk path between two nodes of an undirected graph.\n",
      "6 : Maximum cardinality neighbourly sets in quadrilateral free graphs.\n",
      "7 : Maximal independent sets in a generalisation of caterpillar graph.\n",
      "8 : Algorithms for testing occurrences of length 4 patterns in permutations.\n",
      "9 : A still simpler way of introducing interior-point method for linear programming.\n",
      "10 : Efficient VLSI Parallel Algorithm for Delaunay Triangulation on Orthogonal Tree Network in Two and Three Dimensions.\n",
      "11 : Two-Coloring Linked Lists is NC^1-Complete for Logarithmic Space.\n",
      "12 : Dominance made simple.\n",
      "13 : An optimal parallel algorithm for general maximal matchings is as easy as for bipartite graphs.\n",
      "14 : Parallel Algorithms for Connectivity Problems on Interval Graphs.\n",
      "15 : On finding fundamental cut sets.\n",
      "16 : Corrigendum: Optimal Parallel Algorithms for Coloring Bounded Degree Graphs and Finding Maximal Independent Sets in Rooted Trees.\n",
      "17 : Optimal Parallel Algorithms for Coloring Bounded Degree Graphs and Finding Maximal Independent Sets in Rooted Trees.\n",
      "18 : Local Nature of Brooks' Colouring for Degree 3 Graphs.\n",
      "19 : Improved Deterministic Parallel Integer Sorting\n",
      "20 : Optimal Parallel Algorithm for Brooks' Colouring Bounded Degree Graphs in Logarithmic Time on EREW PRAM.\n",
      "21 : Parallel algorithms for separable permutations.\n",
      "22 : On Parallel Prefix Computation.\n",
      "23 : Ellipsoid Method for Linear Programming made simple.\n",
      "24 : A Still Simpler Way of Introducing the Interior-Point Method for Linear Programming.\n",
      "25 : Still Simpler Way of Introducing Interior-Point method for Linear Programming.\n",
      "26 : A simple introduction to Karmarkar's Algorithm for Linear Programming.\n",
      "27 : Maximal Independent Sets in Generalised Caterpillar Graphs.\n",
      "28 : Maximum Cardinality Neighbourly Sets in Quadrilateral Free Graphs.\n",
      "29 : Faster replacement paths algorithms in case of edge or node failure for undirected, positive integer weighted graphs.\n",
      "30 : Parallel Vertex Colouring of Interval Graphs.\n",
      "31 : Splay Trees.\n",
      "32 : Parallel algorithms for single row routing in narrow streets.\n",
      "33 : Efficient solutions for finding vitality with respect to shortest paths.\n",
      "34 : Ultra-wideband antenna for a ground penetrating radar.\n",
      "35 : Faster Replacement Paths Algorithm for Undirected, Positive Integer Weighted Graphs with Small Diameter.\n",
      "36 : Design of E-Plane Tee Junction in RSIW for C-Band Applications.\n",
      "37 : Design of H-Plane Tee Junction in RSIW for Ku-Band Applications.\n",
      "38 : Parallel Algorithms for Testing Length Four Permutations.\n",
      "39 : On Parallel Sorting and Addition with Concurrent Writes.\n",
      "40 : Swap Edges of Shortest Path Tree in Parallel.\n",
      "41 : Parallel algorithms for the longest common subsequence problem.\n",
      "42 : Parallel algorithms for vehicle routing problems.\n",
      "43 : Algorithms for Testing Length Four Permutations.\n"
     ]
    }
   ],
   "source": [
    "#Listado de todas las publicaciones de un autor determinado.\n",
    "author=\"Sanjeev Saxena\"\n",
    "print(\"------Listado de todas las publicaciones de\", author,\": ------\")\n",
    "cursor = collection.find({\"Authors\":author}, {\"title\": 1, '_id': 0})\n",
    "\n",
    "i = 0\n",
    "for record in cursor:\n",
    "    print(i, \":\", record[\"title\"])\n",
    "    i+=1"
   ]
  },
  {
   "cell_type": "code",
   "execution_count": 4,
   "metadata": {},
   "outputs": [
    {
     "name": "stdout",
     "output_type": "stream",
     "text": [
      "------Numero de publicaciones de Sanjeev Saxena : ------\n",
      "44\n"
     ]
    }
   ],
   "source": [
    "#Número de publicaciones de un autor determinado.\n",
    "author=\"Sanjeev Saxena\"\n",
    "print(\"------Numero de publicaciones de\",author,\": ------\")\n",
    "cursor = collection.count({\"Authors\":author})\n",
    "print (cursor)"
   ]
  },
  {
   "cell_type": "code",
   "execution_count": 5,
   "metadata": {},
   "outputs": [
    {
     "name": "stdout",
     "output_type": "stream",
     "text": [
      "------Numero de article en revista para el año 2017 : ------\n",
      "150622\n"
     ]
    }
   ],
   "source": [
    "#Número de artículos en revista para el año 2017\n",
    "\n",
    "pub_type = \"article\"\n",
    "year = 2017\n",
    "print(\"------Numero de\",pub_type,\"en revista para el año\",year,\": ------\")\n",
    "cursor = collection.count({\"type\":pub_type,\"year\":year})\n",
    "print (cursor)\n"
   ]
  },
  {
   "cell_type": "code",
   "execution_count": 6,
   "metadata": {
    "scrolled": false
   },
   "outputs": [
    {
     "name": "stdout",
     "output_type": "stream",
     "text": [
      "------Numero de autores ocasionales : ------\n",
      "El numero de autores ocasionales es 1767280\n"
     ]
    }
   ],
   "source": [
    "#Número de autores ocasionales, es decir, que tengan menos de 5 publicaciones en total.\n",
    "print(\"------Numero de autores ocasionales : ------\")\n",
    "        \n",
    "cursor = collection.aggregate([{'$unwind': \"$Authors\" }, \n",
    "                             {'$sortByCount': \"$Authors\"}, \n",
    "                             {'$match': {'count':{'$lt':5} } }, \n",
    "                             {'$count': \"autores ocasionales\"} ], \n",
    "                            allowDiskUse=True)\n",
    "\n",
    "for record in cursor:\n",
    "    print(\"El numero de autores ocasionales es\",record[\"autores ocasionales\"])\n"
   ]
  },
  {
   "cell_type": "code",
   "execution_count": 7,
   "metadata": {
    "scrolled": false
   },
   "outputs": [
    {
     "name": "stdout",
     "output_type": "stream",
     "text": [
      "------diez autores con más publicaciones totales de articulos y revistas : ------\n",
      "0 : None con 5840 publicaciones\n",
      "1 : H. Vincent Poor con 1672 publicaciones\n",
      "2 : Mohamed-Slim Alouini con 1293 publicaciones\n",
      "3 : Philip S. Yu con 1224 publicaciones\n",
      "4 : Wei Wang con 1194 publicaciones\n",
      "5 : Wei Zhang con 1170 publicaciones\n",
      "6 : Lajos Hanzo con 1164 publicaciones\n",
      "7 : Wen Gao 0001 con 1160 publicaciones\n",
      "8 : Wei Li con 1149 publicaciones\n",
      "9 : Yang Liu con 1092 publicaciones\n",
      "10 : Yu Zhang con 1084 publicaciones\n"
     ]
    }
   ],
   "source": [
    "#Número de artículos de revista (article) y número de artículos en congresos\n",
    "#(inproceedings) de los diez autores con más publicaciones totales.\n",
    "\n",
    "print(\"------diez autores con más publicaciones totales de articulos y revistas : ------\")\n",
    "        \n",
    "cursor = collection.aggregate([{'$match': { '$or': [ {'type':\"inproceedings\"},{'type':\"article\"}]}},\n",
    "                              {'$unwind': \"$Authors\" },\n",
    "                              {'$group': {'_id':{ 'Authors': \"$Authors\"},'Publicaciones': {'$sum':1}}}, \n",
    "                              {'$sort': {\"Publicaciones\":-1}}, \n",
    "                              {'$limit':11}],\n",
    "                              allowDiskUse=True)\n",
    "\n",
    "i = 0   \n",
    "for record in cursor:\n",
    "    print(i, \":\",record[\"_id\"][\"Authors\"],\"con\",record['Publicaciones'], \"publicaciones\")\n",
    "    i+=1"
   ]
  },
  {
   "cell_type": "code",
   "execution_count": 8,
   "metadata": {},
   "outputs": [
    {
     "name": "stdout",
     "output_type": "stream",
     "text": [
      "------Numero medio de autores de todas las publicaciones que tenga en su conjunto de datos : ------\n",
      "3.0131759743876616\n"
     ]
    }
   ],
   "source": [
    "#Número medio de autores de todas las publicaciones que tenga en su conjunto de datos.\n",
    "print(\"------Numero medio de autores de todas las publicaciones que tenga en su conjunto de datos : ------\")\n",
    "        \n",
    "cursor = collection.aggregate([{'$unwind': \"$Authors\" }, \n",
    "                             {'$group': {'_id': '$_id', 'count':{'$sum':1}}},\n",
    "                             {'$group': {'_id':'null', 'avg':{'$avg':'$count'}}}],\n",
    "                             allowDiskUse=True)\n",
    "\n",
    "for record in cursor:\n",
    "    print(record[\"avg\"])"
   ]
  },
  {
   "cell_type": "code",
   "execution_count": 9,
   "metadata": {},
   "outputs": [
    {
     "name": "stdout",
     "output_type": "stream",
     "text": [
      "------Listado de coautores de un autor : ------\n",
      "K. Nandan Babu\n",
      "Ridhi Garg\n",
      "Richa Shreyam\n",
      "K. Jeevan Madhu\n",
      "V. C. Prasad\n",
      "Neethi K. S.\n",
      "Sanjeev Saxena\n",
      "Kurt Mehlhorn\n",
      "P. C. P. Bhatt\n",
      "Xiaojun Shen\n",
      "G. Sajith\n",
      "S. Das\n",
      "Jay Mahadeokar\n",
      "Sudarshan Banerjee\n",
      "Shailza Gotra\n",
      "Yijie Han\n",
      "N. Malahal Rao\n",
      "K. V. R. C. N. Kishore\n",
      "Krzysztof Diks\n",
      "Anamika Banwari\n",
      "Torben Hagerup\n",
      "Tomasz Radzik\n",
      "Pramod Chandra P. Bhatt\n",
      "V. Yugandhar\n",
      "Anjeneya Swami Kare\n",
      "Niloy Chakrabarti\n",
      "Sagar Kalra\n",
      "M. R. Tripathy\n"
     ]
    }
   ],
   "source": [
    "#Listado de coautores de un autor\n",
    "author=\"Sanjeev Saxena\"\n",
    "print(\"------Listado de coautores de un autor : ------\")\n",
    "\n",
    "cursor = collection.aggregate([{\"$match\":{\"Authors\":author}},\n",
    "                             {\"$unwind\": '$Authors'},\n",
    "                             {'$group': {'_id':{ 'Authors': \"$Authors\"}}},\n",
    "                             {'$match':{'_id':{'$ne':author}}}],\n",
    "                              allowDiskUse=True)\n",
    "\n",
    "for record in cursor:\n",
    "    print(record[\"_id\"][\"Authors\"])"
   ]
  },
  {
   "cell_type": "code",
   "execution_count": 10,
   "metadata": {},
   "outputs": [
    {
     "name": "stdout",
     "output_type": "stream",
     "text": [
      "------Edad de los 5 autores con un periodo de publicaciones mas largo : ------\n",
      "Alan M. Turing  tiene edad 75\n",
      "Rudolf Carnap  tiene edad 71\n",
      "David Nelson  tiene edad 69\n",
      "Martin Davis  tiene edad 65\n",
      "Eric Weiss  tiene edad 64\n"
     ]
    }
   ],
   "source": [
    "#Edad de los 5 autores con un periodo de publicaciones más largo\n",
    "print(\"------Edad de los 5 autores con un periodo de publicaciones mas largo : ------\")\n",
    "\n",
    "cursor = collection.aggregate([{\"$unwind\": '$Authors'},\n",
    "                              {'$match':{'year':{'$ne':\"None\"}}},\n",
    "                              {'$group': {'_id': \"$Authors\",'year': {'$push': '$year'}}}, \n",
    "                              {'$project': {'max': {'$max': \"$year\"},'min':{ '$min': \"$year\"}}}, \n",
    "                              {'$project': {'edad': {'$subtract': [\"$max\",\"$min\"]}}},\n",
    "                              {'$sort': {\"edad\":-1}}, \n",
    "                              {'$limit':5}], \n",
    "                              allowDiskUse=True)\n",
    "\n",
    "for record in cursor:\n",
    "    print(record[\"_id\"],\" tiene edad\",record[\"edad\"])"
   ]
  },
  {
   "cell_type": "code",
   "execution_count": 11,
   "metadata": {},
   "outputs": [
    {
     "name": "stdout",
     "output_type": "stream",
     "text": [
      "------Numero de autores novatos, es decir, que tengan una Edad menor de 5 años. : ------\n",
      "El numero de autores novatos es: 1680262\n"
     ]
    }
   ],
   "source": [
    "#Número de autores novatos, es decir, que tengan una Edad menor de 5 años.\n",
    "print(\"------Numero de autores novatos, es decir, que tengan una Edad menor de 5 años. : ------\")\n",
    "\n",
    "cursor = collection.aggregate([{\"$unwind\": '$Authors'},\n",
    "                              {'$match':{'year':{'$ne':\"None\"}}},\n",
    "                              {'$group': {'_id': \"$Authors\",'year': {'$push': '$year'}}}, \n",
    "                              {'$project': {'max': {'$max': \"$year\"},'min':{ '$min': \"$year\"}}}, \n",
    "                              {'$project': {'edad': {'$subtract': [\"$max\",\"$min\"]}}},\n",
    "                              {'$match':{'edad':{'$lt':5}}},\n",
    "                              {'$count': \"autores novatos\"} ], \n",
    "                              allowDiskUse=True)\n",
    "for record in cursor:\n",
    "    print(\"El numero de autores novatos es:\",record[\"autores novatos\"])"
   ]
  },
  {
   "cell_type": "code",
   "execution_count": 12,
   "metadata": {},
   "outputs": [
    {
     "name": "stdout",
     "output_type": "stream",
     "text": [
      "------Porcentaje de publicaciones en revistas con respecto al total de publicaciones : ------\n",
      "El porcentaje de articulos de revista es 45.36040528233151\n"
     ]
    }
   ],
   "source": [
    "#Porcentaje de publicaciones en revistas con respecto al total de publicaciones.\n",
    "print(\"------Porcentaje de publicaciones en revistas con respecto al total de publicaciones : ------\")\n",
    "\n",
    "cursor = collection.aggregate([{'$match': { 'type': \"article\"} }, \n",
    "                               {'$group': {'_id':'$type', 'count':{'$sum':1}}}, \n",
    "                               {'$project':{'_id':0,'por_articles':{ '$multiply': [{'$divide': [100, collection.count()]}, \"$count\"]}}}],\n",
    "                               allowDiskUse = True)\n",
    "for record in cursor:\n",
    "    print(\"El porcentaje de articulos de revista es\",record[\"por_articles\"])"
   ]
  },
  {
   "cell_type": "code",
   "execution_count": null,
   "metadata": {},
   "outputs": [],
   "source": [
    "#INDICES (EVALUACION DE TIEMPOS)"
   ]
  },
  {
   "cell_type": "code",
   "execution_count": null,
   "metadata": {},
   "outputs": [],
   "source": [
    "#TIEMPOS SIN INDICES "
   ]
  },
  {
   "cell_type": "code",
   "execution_count": 23,
   "metadata": {},
   "outputs": [
    {
     "name": "stdout",
     "output_type": "stream",
     "text": [
      "------Listado de todas las publicaciones de Sanjeev Saxena : ------\n"
     ]
    },
    {
     "data": {
      "text/plain": [
       "163"
      ]
     },
     "execution_count": 23,
     "metadata": {},
     "output_type": "execute_result"
    }
   ],
   "source": [
    "#Listado de todas las publicaciones de un autor determinado.\n",
    "author=\"Sanjeev Saxena\"\n",
    "print(\"------Listado de todas las publicaciones de\", author,\": ------\")\n",
    "a = datetime.datetime.now()\n",
    "cursor = collection.find({\"Authors\":author}, {\"title\": 1, '_id': 0})\n",
    "\n",
    "b = datetime.datetime.now()\n",
    "c = b - a\n",
    "c.microseconds\n"
   ]
  },
  {
   "cell_type": "code",
   "execution_count": 24,
   "metadata": {},
   "outputs": [
    {
     "name": "stdout",
     "output_type": "stream",
     "text": [
      "------Numero de autores ocasionales : ------\n"
     ]
    },
    {
     "data": {
      "text/plain": [
       "480090"
      ]
     },
     "execution_count": 24,
     "metadata": {},
     "output_type": "execute_result"
    }
   ],
   "source": [
    "#Número de autores ocasionales, es decir, que tengan menos de 5 publicaciones en total.\n",
    "print(\"------Numero de autores ocasionales : ------\")\n",
    "\n",
    "a = datetime.datetime.now()\n",
    "\n",
    "cursor = collection.aggregate([{'$unwind': \"$Authors\" }, \n",
    "                             {'$sortByCount': \"$Authors\"}, \n",
    "                             {'$match': {'count':{'$lt':5} } }, \n",
    "                             {'$count': \"autores ocasionales\"} ], \n",
    "                            allowDiskUse=True)\n",
    "b = datetime.datetime.now()\n",
    "c = b - a\n",
    "c.microseconds\n"
   ]
  },
  {
   "cell_type": "code",
   "execution_count": 25,
   "metadata": {},
   "outputs": [
    {
     "name": "stdout",
     "output_type": "stream",
     "text": [
      "------diez autores con más publicaciones totales de articulos y revistas : ------\n"
     ]
    },
    {
     "data": {
      "text/plain": [
       "681373"
      ]
     },
     "execution_count": 25,
     "metadata": {},
     "output_type": "execute_result"
    }
   ],
   "source": [
    "#Número de artículos de revista (article) y número de artículos en congresos\n",
    "#(inproceedings) de los diez autores con más publicaciones totales.\n",
    "\n",
    "print(\"------diez autores con más publicaciones totales de articulos y revistas : ------\")\n",
    "\n",
    "a = datetime.datetime.now()\n",
    "\n",
    "cursor = collection.aggregate([{'$match': { '$or': [ {'type':\"inproceedings\"},{'type':\"article\"}]}},\n",
    "                              {'$unwind': \"$Authors\" },\n",
    "                              {'$group': {'_id':{ 'Authors': \"$Authors\"},'Publicaciones': {'$sum':1}}}, \n",
    "                              {'$sort': {\"Publicaciones\":-1}}, \n",
    "                              {'$limit':11}],\n",
    "                              allowDiskUse=True)\n",
    "\n",
    "b = datetime.datetime.now()\n",
    "c = b - a\n",
    "c.microseconds"
   ]
  },
  {
   "cell_type": "code",
   "execution_count": 26,
   "metadata": {},
   "outputs": [
    {
     "name": "stdout",
     "output_type": "stream",
     "text": [
      "------Edad de los 5 autores con un periodo de publicaciones mas largo : ------\n"
     ]
    },
    {
     "data": {
      "text/plain": [
       "666450"
      ]
     },
     "execution_count": 26,
     "metadata": {},
     "output_type": "execute_result"
    }
   ],
   "source": [
    "#Edad de los 5 autores con un periodo de publicaciones más largo\n",
    "print(\"------Edad de los 5 autores con un periodo de publicaciones mas largo : ------\")\n",
    "\n",
    "a = datetime.datetime.now()\n",
    "\n",
    "cursor = collection.aggregate([{\"$unwind\": '$Authors'},\n",
    "                              {'$match':{'year':{'$ne':\"None\"}}},\n",
    "                              {'$group': {'_id': \"$Authors\",'year': {'$push': '$year'}}}, \n",
    "                              {'$project': {'max': {'$max': \"$year\"},'min':{ '$min': \"$year\"}}}, \n",
    "                              {'$project': {'edad': {'$subtract': [\"$max\",\"$min\"]}}},\n",
    "                              {'$sort': {\"edad\":-1}}, \n",
    "                              {'$limit':5}], \n",
    "                              allowDiskUse=True)\n",
    "\n",
    "b = datetime.datetime.now()\n",
    "c = b - a\n",
    "c.microseconds"
   ]
  },
  {
   "cell_type": "code",
   "execution_count": null,
   "metadata": {},
   "outputs": [],
   "source": [
    "#Creación de indice \n",
    "#db.dblp.createIndex({\"author\":1})"
   ]
  },
  {
   "cell_type": "code",
   "execution_count": 31,
   "metadata": {},
   "outputs": [
    {
     "name": "stdout",
     "output_type": "stream",
     "text": [
      "------Listado de todas las publicaciones de Sanjeev Saxena : ------\n"
     ]
    },
    {
     "data": {
      "text/plain": [
       "120"
      ]
     },
     "execution_count": 31,
     "metadata": {},
     "output_type": "execute_result"
    }
   ],
   "source": [
    "#Listado de todas las publicaciones de un autor determinado.\n",
    "author=\"Sanjeev Saxena\"\n",
    "print(\"------Listado de todas las publicaciones de\", author,\": ------\")\n",
    "a = datetime.datetime.now()\n",
    "cursor = collection.find({\"Authors\":author}, {\"title\": 1, '_id': 0})\n",
    "\n",
    "b = datetime.datetime.now()\n",
    "c = b - a\n",
    "c.microseconds"
   ]
  },
  {
   "cell_type": "code",
   "execution_count": 33,
   "metadata": {},
   "outputs": [
    {
     "name": "stdout",
     "output_type": "stream",
     "text": [
      "------Numero de autores ocasionales : ------\n"
     ]
    },
    {
     "data": {
      "text/plain": [
       "79296"
      ]
     },
     "execution_count": 33,
     "metadata": {},
     "output_type": "execute_result"
    }
   ],
   "source": [
    "#Número de autores ocasionales, es decir, que tengan menos de 5 publicaciones en total.\n",
    "print(\"------Numero de autores ocasionales : ------\")\n",
    "\n",
    "a = datetime.datetime.now()\n",
    "\n",
    "cursor = collection.aggregate([{'$unwind': \"$Authors\" }, \n",
    "                             {'$sortByCount': \"$Authors\"}, \n",
    "                             {'$match': {'count':{'$lt':5} } }, \n",
    "                             {'$count': \"autores ocasionales\"} ], \n",
    "                            allowDiskUse=True)\n",
    "b = datetime.datetime.now()\n",
    "c = b - a\n",
    "c.microseconds\n"
   ]
  },
  {
   "cell_type": "code",
   "execution_count": 36,
   "metadata": {},
   "outputs": [
    {
     "name": "stdout",
     "output_type": "stream",
     "text": [
      "------diez autores con más publicaciones totales de articulos y revistas : ------\n"
     ]
    },
    {
     "data": {
      "text/plain": [
       "542628"
      ]
     },
     "execution_count": 36,
     "metadata": {},
     "output_type": "execute_result"
    }
   ],
   "source": [
    "#Número de artículos de revista (article) y número de artículos en congresos\n",
    "#(inproceedings) de los diez autores con más publicaciones totales.\n",
    "\n",
    "print(\"------diez autores con más publicaciones totales de articulos y revistas : ------\")\n",
    "\n",
    "a = datetime.datetime.now()\n",
    "\n",
    "cursor = collection.aggregate([{'$match': { '$or': [ {'type':\"inproceedings\"},{'type':\"article\"}]}},\n",
    "                              {'$unwind': \"$Authors\" },\n",
    "                              {'$group': {'_id':{ 'Authors': \"$Authors\"},'Publicaciones': {'$sum':1}}}, \n",
    "                              {'$sort': {\"Publicaciones\":-1}}, \n",
    "                              {'$limit':11}],\n",
    "                              allowDiskUse=True)\n",
    "\n",
    "b = datetime.datetime.now()\n",
    "c = b - a\n",
    "c.microseconds"
   ]
  },
  {
   "cell_type": "code",
   "execution_count": 41,
   "metadata": {},
   "outputs": [
    {
     "name": "stdout",
     "output_type": "stream",
     "text": [
      "------Edad de los 5 autores con un periodo de publicaciones mas largo : ------\n"
     ]
    },
    {
     "data": {
      "text/plain": [
       "171503"
      ]
     },
     "execution_count": 41,
     "metadata": {},
     "output_type": "execute_result"
    }
   ],
   "source": [
    "#Edad de los 5 autores con un periodo de publicaciones más largo\n",
    "print(\"------Edad de los 5 autores con un periodo de publicaciones mas largo : ------\")\n",
    "\n",
    "a = datetime.datetime.now()\n",
    "\n",
    "cursor = collection.aggregate([{\"$unwind\": '$Authors'},\n",
    "                              {'$match':{'year':{'$ne':\"None\"}}},\n",
    "                              {'$group': {'_id': \"$Authors\",'year': {'$push': '$year'}}}, \n",
    "                              {'$project': {'max': {'$max': \"$year\"},'min':{ '$min': \"$year\"}}}, \n",
    "                              {'$project': {'edad': {'$subtract': [\"$max\",\"$min\"]}}},\n",
    "                              {'$sort': {\"edad\":-1}}, \n",
    "                              {'$limit':5}], \n",
    "                              allowDiskUse=True)\n",
    "\n",
    "b = datetime.datetime.now()\n",
    "c = b - a\n",
    "c.microseconds"
   ]
  }
 ],
 "metadata": {
  "kernelspec": {
   "display_name": "Python 3",
   "language": "python",
   "name": "python3"
  },
  "language_info": {
   "codemirror_mode": {
    "name": "ipython",
    "version": 3
   },
   "file_extension": ".py",
   "mimetype": "text/x-python",
   "name": "python",
   "nbconvert_exporter": "python",
   "pygments_lexer": "ipython3",
   "version": "3.7.2"
  }
 },
 "nbformat": 4,
 "nbformat_minor": 2
}
